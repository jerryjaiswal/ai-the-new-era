{
 "cells": [
  {
   "cell_type": "code",
   "execution_count": null,
   "id": "d8e2ad35",
   "metadata": {},
   "outputs": [],
   "source": [
    "class node:\n",
    "    def __init__(self, name=\"\", longitude=0.0, latitude=0.0):\n",
    "        self.name = name\n",
    "        self.longitude = longitude\n",
    "        self.latitude = latitude\n",
    "\n",
    "city1 = node(\"jodhpur\", 23.2, 24.5)"
   ]
  },
  {
   "cell_type": "code",
   "execution_count": 17,
   "id": "1cfdd46a",
   "metadata": {},
   "outputs": [
    {
     "name": "stdout",
     "output_type": "stream",
     "text": [
      "jodhpur\n",
      "23.2\n"
     ]
    }
   ],
   "source": [
    "print(city1.name)\n",
    "print(city1.longitude)\n"
   ]
  },
  {
   "cell_type": "code",
   "execution_count": null,
   "id": "68f02f3a",
   "metadata": {},
   "outputs": [],
   "source": []
  }
 ],
 "metadata": {
  "kernelspec": {
   "display_name": "Python 3 (ipykernel)",
   "language": "python",
   "name": "python3"
  },
  "language_info": {
   "codemirror_mode": {
    "name": "ipython",
    "version": 3
   },
   "file_extension": ".py",
   "mimetype": "text/x-python",
   "name": "python",
   "nbconvert_exporter": "python",
   "pygments_lexer": "ipython3",
   "version": "3.9.13"
  }
 },
 "nbformat": 4,
 "nbformat_minor": 5
}
